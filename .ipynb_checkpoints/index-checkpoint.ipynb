{
 "cells": [
  {
   "cell_type": "markdown",
   "id": "2a0833d2",
   "metadata": {},
   "source": [
    "## Devoir IMN "
   ]
  },
  {
   "cell_type": "markdown",
   "id": "4f686f3a",
   "metadata": {},
   "source": [
    "#### libraries"
   ]
  },
  {
   "cell_type": "code",
   "execution_count": 9,
   "id": "b8e5d493",
   "metadata": {},
   "outputs": [],
   "source": [
    "pip install torchvision"
   ]
  },
  {
   "cell_type": "code",
   "execution_count": null,
   "id": "467c1e78",
   "metadata": {},
   "outputs": [],
   "source": [
    "pip install torch"
   ]
  },
  {
   "cell_type": "markdown",
   "id": "097ec07e",
   "metadata": {},
   "source": [
    "### imports"
   ]
  },
  {
   "cell_type": "code",
   "execution_count": 2,
   "id": "f6688dfb",
   "metadata": {},
   "outputs": [],
   "source": [
    "import torch\n",
    "from torchvision import datasets, transforms\n",
    "import matplotlib.pyplot as plt\n",
    "import numpy as np"
   ]
  },
  {
   "cell_type": "markdown",
   "id": "fd764230",
   "metadata": {},
   "source": [
    "### Reading data"
   ]
  },
  {
   "cell_type": "code",
   "execution_count": 3,
   "id": "24d6a00f",
   "metadata": {},
   "outputs": [],
   "source": [
    "data_transforms = transforms.Compose([\n",
    "    transforms.Resize(size=(56, 56)),\n",
    "    transforms.ToTensor(),\n",
    "])\n",
    "\n",
    "# Load the datasets\n",
    "train_dataset = datasets.ImageFolder(\"train/\", transform=data_transforms)\n",
    "test_dataset = datasets.ImageFolder(\"test/\", transform=data_transforms)\n",
    "\n",
    "# Create the data loaders\n",
    "train_loader = torch.utils.data.DataLoader(train_dataset, batch_size=64, shuffle=True)\n",
    "test_loader = torch.utils.data.DataLoader(test_dataset, batch_size=64, shuffle=True)"
   ]
  },
  {
   "cell_type": "markdown",
   "id": "fb3fa2b1",
   "metadata": {},
   "source": [
    "### Data understanding"
   ]
  },
  {
   "cell_type": "code",
   "execution_count": null,
   "id": "04127f33",
   "metadata": {},
   "outputs": [],
   "source": [
    "def visualize_class_distribution(dataset, dataset_name):\n",
    "    class_counts = np.zeros(len(dataset.classes))\n",
    "    for _, y in dataset:\n",
    "        class_counts[y] += 1\n",
    "\n",
    "    plt.bar(dataset.classes, class_counts)\n",
    "    plt.xlabel(\"Class\")\n",
    "    plt.ylabel(\"Number of images\")\n",
    "    plt.title(f\"Class distribution in the {dataset_name} dataset\")\n",
    "    plt.show()\n",
    "\n",
    "def calculate_dataset_stats(dataset):\n",
    "    mean = 0.0\n",
    "    std = 0.0\n",
    "    for x, _ in dataset:\n",
    "        mean += x.mean()\n",
    "        std += x.std()\n",
    "    \n",
    "    mean /= len(dataset)\n",
    "    std /= len(dataset)\n",
    "\n",
    "    return mean.item(), std.item()\n",
    "\n",
    "visualize_class_distribution(train_dataset, \"Train\")\n",
    "mean, std = calculate_dataset_stats(train_dataset)\n",
    "print(f\"Train dataset mean: {mean:.4f}, standard deviation: {std:.4f}\")\n",
    "\n",
    "visualize_class_distribution(test_dataset, \"Test\")\n",
    "mean, std = calculate_dataset_stats(test_dataset)\n",
    "print(f\"Test dataset mean: {mean:.4f}, standard deviation: {std:.4f}\")"
   ]
  },
  {
   "cell_type": "code",
   "execution_count": null,
   "id": "4dd0055b",
   "metadata": {},
   "outputs": [],
   "source": []
  },
  {
   "cell_type": "code",
   "execution_count": 10,
   "id": "b9aa9be9",
   "metadata": {},
   "outputs": [],
   "source": [
    "## build the model "
   ]
  },
  {
   "cell_type": "code",
   "execution_count": null,
   "id": "4c96896d",
   "metadata": {},
   "outputs": [],
   "source": []
  },
  {
   "cell_type": "code",
   "execution_count": 8,
   "id": "7eef8b69",
   "metadata": {},
   "outputs": [
    {
     "name": "stdout",
     "output_type": "stream",
     "text": [
      "Epoch [1]: Train Loss: 0.4869\n",
      "Epoch [2]: Train Loss: 0.1796\n",
      "Epoch [3]: Train Loss: 0.1653\n",
      "Accuracy on the test set: 86.86%\n"
     ]
    }
   ],
   "source": [
    "# Create the model and optimizer\n",
    "model = torch.nn.Sequential(\n",
    "    torch.nn.Flatten(),\n",
    "    torch.nn.Linear(3 * 56 * 56, 512),\n",
    "    torch.nn.ReLU(),\n",
    "    torch.nn.Linear(512, 2)\n",
    ")\n",
    "\n",
    "optimizer = torch.optim.Adam(model.parameters(), lr=0.001)\n",
    "\n",
    "# Train the model\n",
    "model.train()\n",
    "for epoch in range(3):\n",
    "    running_loss = 0.0\n",
    "\n",
    "    for inputs, labels in train_loader:\n",
    "        optimizer.zero_grad()\n",
    "        outputs = model(inputs)\n",
    "        loss = torch.nn.functional.cross_entropy(outputs, labels)\n",
    "        loss.backward()\n",
    "        optimizer.step()\n",
    "\n",
    "        running_loss += loss.item()\n",
    " \n",
    "    print(f\"Epoch [{epoch + 1}]: Train Loss: {running_loss / len(train_loader):.4f}\")  \n",
    "\n",
    "# Evaluate the model on the test set\n",
    "correct = 0\n",
    "model.eval()\n",
    "with torch.no_grad():\n",
    "    for images, labels in test_loader:\n",
    "        outputs = model(images)\n",
    "        _, predicted = torch.max(outputs.data, 1)\n",
    "        correct += (predicted == labels).sum().item()\n",
    "\n",
    "print(f\"Accuracy on the test set: {correct / len(test_dataset):.2%}\")"
   ]
  },
  {
   "cell_type": "code",
   "execution_count": null,
   "id": "8eea9787",
   "metadata": {},
   "outputs": [],
   "source": []
  },
  {
   "cell_type": "code",
   "execution_count": null,
   "id": "5baa8795",
   "metadata": {},
   "outputs": [],
   "source": []
  },
  {
   "cell_type": "code",
   "execution_count": null,
   "id": "0ebfa975",
   "metadata": {},
   "outputs": [],
   "source": []
  }
 ],
 "metadata": {
  "kernelspec": {
   "display_name": "Python 3 (ipykernel)",
   "language": "python",
   "name": "python3"
  },
  "language_info": {
   "codemirror_mode": {
    "name": "ipython",
    "version": 3
   },
   "file_extension": ".py",
   "mimetype": "text/x-python",
   "name": "python",
   "nbconvert_exporter": "python",
   "pygments_lexer": "ipython3",
   "version": "3.9.13"
  }
 },
 "nbformat": 4,
 "nbformat_minor": 5
}
